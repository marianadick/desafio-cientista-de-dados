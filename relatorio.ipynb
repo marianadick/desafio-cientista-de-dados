{
  "cells": [
    {
      "cell_type": "markdown",
      "source": [
        "# **Desafio Cientista de Dados Indicium**"
      ],
      "metadata": {
        "id": "ElwOYOaWiukm"
      }
    },
    {
      "cell_type": "markdown",
      "source": [
        "No presente relatório se encontram duas das entregas do desafio. A primeira seção se trata de uma **Exploratory Data Analysis**, onde serão analisadas as relações entre os dados e o impacto das mesmas no target (salário anual). Na segunda seção serão discutidos os **códigos utilizados**, desde sua escolha até seus resultados. "
      ],
      "metadata": {
        "id": "deyr4pxoi4pI"
      }
    },
    {
      "cell_type": "markdown",
      "source": [
        "## Exploratory Data Analysis"
      ],
      "metadata": {
        "id": "JXc48BwYAv-n"
      }
    },
    {
      "cell_type": "markdown",
      "source": [
        "### Import de bibliotecas\n"
      ],
      "metadata": {
        "id": "mNQT5YjRU58t"
      }
    },
    {
      "cell_type": "code",
      "execution_count": 89,
      "metadata": {
        "id": "1XvrKG4JU1A4"
      },
      "outputs": [],
      "source": [
        "import pandas as pd\n",
        "import numpy as np\n",
        "from sklearn.model_selection import train_test_split\n",
        "from sklearn.svm import SVC\n",
        "from sklearn import preprocessing, metrics, tree\n",
        "from sklearn.pipeline import Pipeline\n",
        "from sklearn.neighbors import KNeighborsClassifier\n",
        "from sklearn.ensemble import RandomForestClassifier\n",
        "import seaborn as sns\n",
        "import matplotlib.pyplot as plt\n",
        "sns.set_theme(style=\"ticks\", color_codes=True)"
      ]
    },
    {
      "cell_type": "markdown",
      "source": [
        "### Carregamento da base de dados\n"
      ],
      "metadata": {
        "id": "L819bF7wVeuf"
      }
    },
    {
      "cell_type": "markdown",
      "source": [
        "Ao executar os trechos de código abaixo, é possível observar como\n",
        "o nosso conjunto de dados se parece e suas principais informações. As features são age, workclass, fnlwgt, education, education_num, \n",
        "marital_status, occupation, relationship, race, sex, capital_gain, capital_loss, hours_per_week e native_country. O conjunto de dados não possui valores nulos."
      ],
      "metadata": {
        "id": "odpU7u19mYuT"
      }
    },
    {
      "cell_type": "code",
      "execution_count": 90,
      "metadata": {
        "colab": {
          "base_uri": "https://localhost:8080/",
          "height": 357
        },
        "id": "QD2KddAzU1A8",
        "outputId": "fc8e8d2e-a2ac-4218-8164-6c30602ef400"
      },
      "outputs": [
        {
          "output_type": "execute_result",
          "data": {
            "text/plain": [
              "   age         workclass  fnlwgt  education  education_num  \\\n",
              "0   50  Self-emp-not-inc   83311  Bachelors             13   \n",
              "1   38           Private  215646    HS-grad              9   \n",
              "2   53           Private  234721       11th              7   \n",
              "3   28           Private  338409  Bachelors             13   \n",
              "4   37           Private  284582    Masters             14   \n",
              "\n",
              "       marital_status         occupation   relationship   race     sex  \\\n",
              "0  Married-civ-spouse    Exec-managerial        Husband  White    Male   \n",
              "1            Divorced  Handlers-cleaners  Not-in-family  White    Male   \n",
              "2  Married-civ-spouse  Handlers-cleaners        Husband  Black    Male   \n",
              "3  Married-civ-spouse     Prof-specialty           Wife  Black  Female   \n",
              "4  Married-civ-spouse    Exec-managerial           Wife  White  Female   \n",
              "\n",
              "   capital_gain  capital_loss  hours_per_week native_country yearly_wage  \n",
              "0             0             0              13  United-States       <=50K  \n",
              "1             0             0              40  United-States       <=50K  \n",
              "2             0             0              40  United-States       <=50K  \n",
              "3             0             0              40           Cuba       <=50K  \n",
              "4             0             0              40  United-States       <=50K  "
            ],
            "text/html": [
              "\n",
              "  <div id=\"df-f438ca3c-c670-4538-ba0c-df44d8aacc69\">\n",
              "    <div class=\"colab-df-container\">\n",
              "      <div>\n",
              "<style scoped>\n",
              "    .dataframe tbody tr th:only-of-type {\n",
              "        vertical-align: middle;\n",
              "    }\n",
              "\n",
              "    .dataframe tbody tr th {\n",
              "        vertical-align: top;\n",
              "    }\n",
              "\n",
              "    .dataframe thead th {\n",
              "        text-align: right;\n",
              "    }\n",
              "</style>\n",
              "<table border=\"1\" class=\"dataframe\">\n",
              "  <thead>\n",
              "    <tr style=\"text-align: right;\">\n",
              "      <th></th>\n",
              "      <th>age</th>\n",
              "      <th>workclass</th>\n",
              "      <th>fnlwgt</th>\n",
              "      <th>education</th>\n",
              "      <th>education_num</th>\n",
              "      <th>marital_status</th>\n",
              "      <th>occupation</th>\n",
              "      <th>relationship</th>\n",
              "      <th>race</th>\n",
              "      <th>sex</th>\n",
              "      <th>capital_gain</th>\n",
              "      <th>capital_loss</th>\n",
              "      <th>hours_per_week</th>\n",
              "      <th>native_country</th>\n",
              "      <th>yearly_wage</th>\n",
              "    </tr>\n",
              "  </thead>\n",
              "  <tbody>\n",
              "    <tr>\n",
              "      <th>0</th>\n",
              "      <td>50</td>\n",
              "      <td>Self-emp-not-inc</td>\n",
              "      <td>83311</td>\n",
              "      <td>Bachelors</td>\n",
              "      <td>13</td>\n",
              "      <td>Married-civ-spouse</td>\n",
              "      <td>Exec-managerial</td>\n",
              "      <td>Husband</td>\n",
              "      <td>White</td>\n",
              "      <td>Male</td>\n",
              "      <td>0</td>\n",
              "      <td>0</td>\n",
              "      <td>13</td>\n",
              "      <td>United-States</td>\n",
              "      <td>&lt;=50K</td>\n",
              "    </tr>\n",
              "    <tr>\n",
              "      <th>1</th>\n",
              "      <td>38</td>\n",
              "      <td>Private</td>\n",
              "      <td>215646</td>\n",
              "      <td>HS-grad</td>\n",
              "      <td>9</td>\n",
              "      <td>Divorced</td>\n",
              "      <td>Handlers-cleaners</td>\n",
              "      <td>Not-in-family</td>\n",
              "      <td>White</td>\n",
              "      <td>Male</td>\n",
              "      <td>0</td>\n",
              "      <td>0</td>\n",
              "      <td>40</td>\n",
              "      <td>United-States</td>\n",
              "      <td>&lt;=50K</td>\n",
              "    </tr>\n",
              "    <tr>\n",
              "      <th>2</th>\n",
              "      <td>53</td>\n",
              "      <td>Private</td>\n",
              "      <td>234721</td>\n",
              "      <td>11th</td>\n",
              "      <td>7</td>\n",
              "      <td>Married-civ-spouse</td>\n",
              "      <td>Handlers-cleaners</td>\n",
              "      <td>Husband</td>\n",
              "      <td>Black</td>\n",
              "      <td>Male</td>\n",
              "      <td>0</td>\n",
              "      <td>0</td>\n",
              "      <td>40</td>\n",
              "      <td>United-States</td>\n",
              "      <td>&lt;=50K</td>\n",
              "    </tr>\n",
              "    <tr>\n",
              "      <th>3</th>\n",
              "      <td>28</td>\n",
              "      <td>Private</td>\n",
              "      <td>338409</td>\n",
              "      <td>Bachelors</td>\n",
              "      <td>13</td>\n",
              "      <td>Married-civ-spouse</td>\n",
              "      <td>Prof-specialty</td>\n",
              "      <td>Wife</td>\n",
              "      <td>Black</td>\n",
              "      <td>Female</td>\n",
              "      <td>0</td>\n",
              "      <td>0</td>\n",
              "      <td>40</td>\n",
              "      <td>Cuba</td>\n",
              "      <td>&lt;=50K</td>\n",
              "    </tr>\n",
              "    <tr>\n",
              "      <th>4</th>\n",
              "      <td>37</td>\n",
              "      <td>Private</td>\n",
              "      <td>284582</td>\n",
              "      <td>Masters</td>\n",
              "      <td>14</td>\n",
              "      <td>Married-civ-spouse</td>\n",
              "      <td>Exec-managerial</td>\n",
              "      <td>Wife</td>\n",
              "      <td>White</td>\n",
              "      <td>Female</td>\n",
              "      <td>0</td>\n",
              "      <td>0</td>\n",
              "      <td>40</td>\n",
              "      <td>United-States</td>\n",
              "      <td>&lt;=50K</td>\n",
              "    </tr>\n",
              "  </tbody>\n",
              "</table>\n",
              "</div>\n",
              "      <button class=\"colab-df-convert\" onclick=\"convertToInteractive('df-f438ca3c-c670-4538-ba0c-df44d8aacc69')\"\n",
              "              title=\"Convert this dataframe to an interactive table.\"\n",
              "              style=\"display:none;\">\n",
              "        \n",
              "  <svg xmlns=\"http://www.w3.org/2000/svg\" height=\"24px\"viewBox=\"0 0 24 24\"\n",
              "       width=\"24px\">\n",
              "    <path d=\"M0 0h24v24H0V0z\" fill=\"none\"/>\n",
              "    <path d=\"M18.56 5.44l.94 2.06.94-2.06 2.06-.94-2.06-.94-.94-2.06-.94 2.06-2.06.94zm-11 1L8.5 8.5l.94-2.06 2.06-.94-2.06-.94L8.5 2.5l-.94 2.06-2.06.94zm10 10l.94 2.06.94-2.06 2.06-.94-2.06-.94-.94-2.06-.94 2.06-2.06.94z\"/><path d=\"M17.41 7.96l-1.37-1.37c-.4-.4-.92-.59-1.43-.59-.52 0-1.04.2-1.43.59L10.3 9.45l-7.72 7.72c-.78.78-.78 2.05 0 2.83L4 21.41c.39.39.9.59 1.41.59.51 0 1.02-.2 1.41-.59l7.78-7.78 2.81-2.81c.8-.78.8-2.07 0-2.86zM5.41 20L4 18.59l7.72-7.72 1.47 1.35L5.41 20z\"/>\n",
              "  </svg>\n",
              "      </button>\n",
              "      \n",
              "  <style>\n",
              "    .colab-df-container {\n",
              "      display:flex;\n",
              "      flex-wrap:wrap;\n",
              "      gap: 12px;\n",
              "    }\n",
              "\n",
              "    .colab-df-convert {\n",
              "      background-color: #E8F0FE;\n",
              "      border: none;\n",
              "      border-radius: 50%;\n",
              "      cursor: pointer;\n",
              "      display: none;\n",
              "      fill: #1967D2;\n",
              "      height: 32px;\n",
              "      padding: 0 0 0 0;\n",
              "      width: 32px;\n",
              "    }\n",
              "\n",
              "    .colab-df-convert:hover {\n",
              "      background-color: #E2EBFA;\n",
              "      box-shadow: 0px 1px 2px rgba(60, 64, 67, 0.3), 0px 1px 3px 1px rgba(60, 64, 67, 0.15);\n",
              "      fill: #174EA6;\n",
              "    }\n",
              "\n",
              "    [theme=dark] .colab-df-convert {\n",
              "      background-color: #3B4455;\n",
              "      fill: #D2E3FC;\n",
              "    }\n",
              "\n",
              "    [theme=dark] .colab-df-convert:hover {\n",
              "      background-color: #434B5C;\n",
              "      box-shadow: 0px 1px 3px 1px rgba(0, 0, 0, 0.15);\n",
              "      filter: drop-shadow(0px 1px 2px rgba(0, 0, 0, 0.3));\n",
              "      fill: #FFFFFF;\n",
              "    }\n",
              "  </style>\n",
              "\n",
              "      <script>\n",
              "        const buttonEl =\n",
              "          document.querySelector('#df-f438ca3c-c670-4538-ba0c-df44d8aacc69 button.colab-df-convert');\n",
              "        buttonEl.style.display =\n",
              "          google.colab.kernel.accessAllowed ? 'block' : 'none';\n",
              "\n",
              "        async function convertToInteractive(key) {\n",
              "          const element = document.querySelector('#df-f438ca3c-c670-4538-ba0c-df44d8aacc69');\n",
              "          const dataTable =\n",
              "            await google.colab.kernel.invokeFunction('convertToInteractive',\n",
              "                                                     [key], {});\n",
              "          if (!dataTable) return;\n",
              "\n",
              "          const docLinkHtml = 'Like what you see? Visit the ' +\n",
              "            '<a target=\"_blank\" href=https://colab.research.google.com/notebooks/data_table.ipynb>data table notebook</a>'\n",
              "            + ' to learn more about interactive tables.';\n",
              "          element.innerHTML = '';\n",
              "          dataTable['output_type'] = 'display_data';\n",
              "          await google.colab.output.renderOutput(dataTable, element);\n",
              "          const docLink = document.createElement('div');\n",
              "          docLink.innerHTML = docLinkHtml;\n",
              "          element.appendChild(docLink);\n",
              "        }\n",
              "      </script>\n",
              "    </div>\n",
              "  </div>\n",
              "  "
            ]
          },
          "metadata": {},
          "execution_count": 90
        }
      ],
      "source": [
        "dataset = pd.read_csv(\"wage_train.csv\", skipinitialspace = True)\n",
        "dataset = dataset.drop(columns=['Unnamed: 0'])\n",
        "\n",
        "dataset.head()"
      ]
    },
    {
      "cell_type": "code",
      "source": [
        "# Informações sobre a base de dados\n",
        "dataset.info()"
      ],
      "metadata": {
        "colab": {
          "base_uri": "https://localhost:8080/"
        },
        "id": "SYnZbmZgC0GR",
        "outputId": "7b7dab88-ab60-4a69-8992-01ca5b4c7671"
      },
      "execution_count": 91,
      "outputs": [
        {
          "output_type": "stream",
          "name": "stdout",
          "text": [
            "<class 'pandas.core.frame.DataFrame'>\n",
            "RangeIndex: 32560 entries, 0 to 32559\n",
            "Data columns (total 15 columns):\n",
            " #   Column          Non-Null Count  Dtype \n",
            "---  ------          --------------  ----- \n",
            " 0   age             32560 non-null  int64 \n",
            " 1   workclass       32560 non-null  object\n",
            " 2   fnlwgt          32560 non-null  int64 \n",
            " 3   education       32560 non-null  object\n",
            " 4   education_num   32560 non-null  int64 \n",
            " 5   marital_status  32560 non-null  object\n",
            " 6   occupation      32560 non-null  object\n",
            " 7   relationship    32560 non-null  object\n",
            " 8   race            32560 non-null  object\n",
            " 9   sex             32560 non-null  object\n",
            " 10  capital_gain    32560 non-null  int64 \n",
            " 11  capital_loss    32560 non-null  int64 \n",
            " 12  hours_per_week  32560 non-null  int64 \n",
            " 13  native_country  32560 non-null  object\n",
            " 14  yearly_wage     32560 non-null  object\n",
            "dtypes: int64(6), object(9)\n",
            "memory usage: 3.7+ MB\n"
          ]
        }
      ]
    },
    {
      "cell_type": "markdown",
      "source": [
        "### Estatísticas descritivas"
      ],
      "metadata": {
        "id": "PO2LtaTen5HC"
      }
    },
    {
      "cell_type": "markdown",
      "source": [
        "#### Workclass e occupation\n"
      ],
      "metadata": {
        "id": "gSyN8xxXyLBd"
      }
    },
    {
      "cell_type": "code",
      "source": [
        "sns.catplot(y=\"workclass\", hue=\"yearly_wage\", kind=\"count\", data=dataset)"
      ],
      "metadata": {
        "colab": {
          "base_uri": "https://localhost:8080/",
          "height": 108
        },
        "id": "zOOJIJXCyWCX",
        "outputId": "58e2987d-af86-441e-b7a6-28f2bc35811e"
      },
      "execution_count": 92,
      "outputs": [
        {
          "output_type": "execute_result",
          "data": {
            "text/plain": [
              "<seaborn.axisgrid.FacetGrid at 0x7fa9ce05b8d0>"
            ]
          },
          "metadata": {},
          "execution_count": 92
        },
        {
          "output_type": "display_data",
          "data": {
            "text/plain": [
              "<Figure size 444.675x360 with 1 Axes>"
            ],
            "image/png": "[encoded data removed]"
          },
          "metadata": {}
        }
      ]
    },
    {
      "cell_type": "code",
      "source": [
        "sns.catplot(y=\"occupation\", hue=\"yearly_wage\", kind=\"count\", data=dataset)"
      ],
      "metadata": {
        "colab": {
          "base_uri": "https://localhost:8080/",
          "height": 108
        },
        "id": "X1P8ltjsycWf",
        "outputId": "d5950fa9-e0ea-4051-9a48-264de864116e"
      },
      "execution_count": 93,
      "outputs": [
        {
          "output_type": "execute_result",
          "data": {
            "text/plain": [
              "<seaborn.axisgrid.FacetGrid at 0x7fa9ce28a3d0>"
            ]
          },
          "metadata": {},
          "execution_count": 93
        },
        {
          "output_type": "display_data",
          "data": {
            "text/plain": [
              "<Figure size 444.675x360 with 1 Axes>"
            ],
            "image/png": "[encoded data removed]"
          },
          "metadata": {}
        }
      ]
    },
    {
      "cell_type": "markdown",
      "source": [
        "Essas duas features também mostram informações bastante claras sobre nosso conjunto de dados. Podemos observar que a probabilidade de alguém com a workclass \"private\" ter renda <= 50 mil é muito maior do que o contrário. Essa workclass é a mais comum em nosso dataset. \n",
        "No gráfico de Occupation, vemos que algumas profissões possuem uma probabilidade grande de ter um salário maior que 50 mil, como a exec-managerial. Esses casos em que a probabilidade está quase 50-50 serão mais dificeis de prever do que individuos que responderam \"other-service\", por exemplo. Encontrar os individuos com a renda maior que 50 mil será mais desafiador do que o contrário, o que provavélmente refletirá nos resultados."
      ],
      "metadata": {
        "id": "vxdpU3RfylgR"
      }
    },
    {
      "cell_type": "markdown",
      "source": [
        "#### Education"
      ],
      "metadata": {
        "id": "dPJGmd8gvfB_"
      }
    },
    {
      "cell_type": "code",
      "source": [
        "sns.catplot(y=\"education\", hue=\"yearly_wage\", kind=\"count\", data=dataset)"
      ],
      "metadata": {
        "colab": {
          "base_uri": "https://localhost:8080/",
          "height": 383
        },
        "id": "yg6zxxmRwGnK",
        "outputId": "a926455c-3160-47f6-8359-d77fcb81c18d"
      },
      "execution_count": 94,
      "outputs": [
        {
          "output_type": "execute_result",
          "data": {
            "text/plain": [
              "<seaborn.axisgrid.FacetGrid at 0x7fa9cde264d0>"
            ]
          },
          "metadata": {},
          "execution_count": 94
        },
        {
          "output_type": "display_data",
          "data": {
            "text/plain": [
              "<Figure size 444.675x360 with 1 Axes>"
            ],
            "image/png": "[encoded data removed]"
          },
          "metadata": {}
        }
      ]
    },
    {
      "cell_type": "markdown",
      "source": [
        "Há uma relação clara entre a educação e o salário anual. Quanto menor a educação, menor a porcentagem de indivíduos com renda maior que 50 mil. Isso mostra que essa feature tem grande impacto."
      ],
      "metadata": {
        "id": "JjRS1j1OwZlD"
      }
    },
    {
      "cell_type": "markdown",
      "source": [
        "#### Sex e race"
      ],
      "metadata": {
        "id": "ZncGI1gzvT35"
      }
    },
    {
      "cell_type": "code",
      "source": [
        "sns.catplot(x='sex',data=dataset,kind='count')"
      ],
      "metadata": {
        "colab": {
          "base_uri": "https://localhost:8080/",
          "height": 383
        },
        "id": "gATszACSp3PV",
        "outputId": "24c6ef96-2f0c-4ae3-e115-25b515a07252"
      },
      "execution_count": 95,
      "outputs": [
        {
          "output_type": "execute_result",
          "data": {
            "text/plain": [
              "<seaborn.axisgrid.FacetGrid at 0x7fa9cdd83510>"
            ]
          },
          "metadata": {},
          "execution_count": 95
        },
        {
          "output_type": "display_data",
          "data": {
            "text/plain": [
              "<Figure size 360x360 with 1 Axes>"
            ],
            "image/png": "[encoded data removed]"
          },
          "metadata": {}
        }
      ]
    },
    {
      "cell_type": "code",
      "source": [
        "sns.catplot(x=\"sex\", hue=\"yearly_wage\", kind='count', data=dataset)"
      ],
      "metadata": {
        "colab": {
          "base_uri": "https://localhost:8080/",
          "height": 383
        },
        "id": "IPdX_qvUqyuX",
        "outputId": "3e88067e-83ab-484f-8eb4-8c467acb65d4"
      },
      "execution_count": 96,
      "outputs": [
        {
          "output_type": "execute_result",
          "data": {
            "text/plain": [
              "<seaborn.axisgrid.FacetGrid at 0x7fa9cdd05c50>"
            ]
          },
          "metadata": {},
          "execution_count": 96
        },
        {
          "output_type": "display_data",
          "data": {
            "text/plain": [
              "<Figure size 444.675x360 with 1 Axes>"
            ],
            "image/png": "[encoded data removed]"
          },
          "metadata": {}
        }
      ]
    },
    {
      "cell_type": "markdown",
      "source": [
        "Nosso conjunto de dados tem mais entradas de pessoas do sexo masculino. Além disso, a porcentagem de homens com a renda maior que 50 mil é muito maior do que a porcentagem de mulheres."
      ],
      "metadata": {
        "id": "VuF3G1f7tovQ"
      }
    },
    {
      "cell_type": "code",
      "source": [
        "sns.catplot(y=\"race\", hue=\"yearly_wage\", kind=\"count\", data=dataset)"
      ],
      "metadata": {
        "colab": {
          "base_uri": "https://localhost:8080/",
          "height": 383
        },
        "id": "C-loH7fu1-uW",
        "outputId": "08b119df-94e6-41b3-a6a1-f7206933dcf0"
      },
      "execution_count": 97,
      "outputs": [
        {
          "output_type": "execute_result",
          "data": {
            "text/plain": [
              "<seaborn.axisgrid.FacetGrid at 0x7fa9ce6b6a50>"
            ]
          },
          "metadata": {},
          "execution_count": 97
        },
        {
          "output_type": "display_data",
          "data": {
            "text/plain": [
              "<Figure size 444.675x360 with 1 Axes>"
            ],
            "image/png": "[encoded data removed]"
          },
          "metadata": {}
        }
      ]
    },
    {
      "cell_type": "markdown",
      "source": [
        "Nosso conjunto de dados possui mais entradas de pessoas brancas. A proporção de péssoas com renda maior que 50 mil é maior para as pessoas brancas do que para as de outras etnias."
      ],
      "metadata": {
        "id": "dpFmojxd2LNn"
      }
    },
    {
      "cell_type": "markdown",
      "source": [
        "## Pré-processamento e transformação dos dados\n",
        "\n",
        "\n",
        "---\n",
        "\n"
      ],
      "metadata": {
        "id": "qal_r9mtCqBC"
      }
    },
    {
      "cell_type": "markdown",
      "source": [
        "### Procedimentos"
      ],
      "metadata": {
        "id": "RcqKBO-RF2t4"
      }
    },
    {
      "cell_type": "code",
      "source": [
        "# Função para substituir valores inválidos no conjunto de dados\n",
        "def replace_invalid_values(dataset):\n",
        "  # Substitui os pontos de interrogação encontrados na base de dados\n",
        "  # O novo tipo do dado será NaN\n",
        "  for col in dataset.columns:\n",
        "      dataset[col].replace({'?':np.nan},inplace=True)\n",
        "\n",
        "  # Encontra a soma de valores nulos por coluna \n",
        "  dataset.isnull().sum()\n",
        "\n",
        "  # Separa as colunas com valores nulos\n",
        "  missing_value_cols = ['workclass', 'occupation',  'native_country']\n",
        "\n",
        "  # Substituição dos nulos pela moda\n",
        "  '''O método foi escolhido por ser adequado para alfanuméricos e\n",
        "  facilitar o processamento de dados'''\n",
        "  for col in missing_value_cols:\n",
        "      dataset[col].fillna(dataset[col].mode()[0], inplace=True)\n",
        "\n",
        "  # O dataset está livre de dados inválidos\n",
        "  dataset.isnull().sum()\n",
        "\n",
        "  return dataset"
      ],
      "metadata": {
        "id": "M6YjC_fCF5Q2"
      },
      "execution_count": 111,
      "outputs": []
    },
    {
      "cell_type": "code",
      "source": [
        "def feature_scaling(dataset):\n",
        "  # Separa as categorias com valores alfanuméricos\n",
        "  columns_category = ['workclass', 'education', 'marital_status', 'occupation', \n",
        "                      'relationship', 'race', 'sex', 'native_country', 'yearly_wage']\n",
        "\n",
        "  # Transforma os valores em valores entre 0 e 1\n",
        "  le = preprocessing.LabelEncoder()\n",
        "  for col in columns_category:\n",
        "    le.fit(dataset[col])\n",
        "    dataset[col] = le.fit_transform(dataset[col])\n",
        "\n",
        "  '''Reescala os valores para que não haja discrepância de importância entre\n",
        "  as features e para facilitar o processamento dos dados'''\n",
        "  dataset_normalize = dataset.copy()\n",
        "  dataset_normalize[dataset.columns] = preprocessing.MinMaxScaler().fit_transform(dataset[dataset.columns])\n",
        "\n",
        "  dataset = dataset_normalize\n",
        "\n",
        "  return dataset"
      ],
      "metadata": {
        "id": "Y2QUgDeVJwMp"
      },
      "execution_count": 112,
      "outputs": []
    },
    {
      "cell_type": "markdown",
      "source": [
        "### Visualização\n"
      ],
      "metadata": {
        "id": "vZ33bkbeL02z"
      }
    },
    {
      "cell_type": "code",
      "source": [
        "# Realiza processamento\n",
        "dataset = replace_invalid_values(dataset)\n",
        "dataset = feature_scaling(dataset)\n",
        "\n",
        "# Nova visualização dos dados\n",
        "dataset.head()"
      ],
      "metadata": {
        "colab": {
          "base_uri": "https://localhost:8080/",
          "height": 270
        },
        "id": "4kX_BtZKIYAW",
        "outputId": "fcd86fd1-7c36-4c75-bb38-fcdaa9f00968"
      },
      "execution_count": 113,
      "outputs": [
        {
          "output_type": "execute_result",
          "data": {
            "text/plain": [
              "        age  workclass    fnlwgt  education  education_num  marital_status  \\\n",
              "0  0.452055   0.714286  0.048238   0.600000       0.800000        0.333333   \n",
              "1  0.287671   0.428571  0.138113   0.733333       0.533333        0.000000   \n",
              "2  0.493151   0.428571  0.151068   0.066667       0.400000        0.333333   \n",
              "3  0.150685   0.428571  0.221488   0.600000       0.800000        0.333333   \n",
              "4  0.273973   0.428571  0.184932   0.800000       0.866667        0.333333   \n",
              "\n",
              "   occupation  relationship  race  sex  capital_gain  capital_loss  \\\n",
              "0    0.230769           0.0   1.0  1.0           0.0           0.0   \n",
              "1    0.384615           0.2   1.0  1.0           0.0           0.0   \n",
              "2    0.384615           0.0   0.5  1.0           0.0           0.0   \n",
              "3    0.692308           1.0   0.5  0.0           0.0           0.0   \n",
              "4    0.230769           1.0   1.0  0.0           0.0           0.0   \n",
              "\n",
              "   hours_per_week  native_country  yearly_wage  \n",
              "0        0.122449            0.95          0.0  \n",
              "1        0.397959            0.95          0.0  \n",
              "2        0.397959            0.95          0.0  \n",
              "3        0.397959            0.10          0.0  \n",
              "4        0.397959            0.95          0.0  "
            ],
            "text/html": [
              "\n",
              "  <div id=\"df-ac18dcba-3f5c-4735-9542-a08a70293a5b\">\n",
              "    <div class=\"colab-df-container\">\n",
              "      <div>\n",
              "<style scoped>\n",
              "    .dataframe tbody tr th:only-of-type {\n",
              "        vertical-align: middle;\n",
              "    }\n",
              "\n",
              "    .dataframe tbody tr th {\n",
              "        vertical-align: top;\n",
              "    }\n",
              "\n",
              "    .dataframe thead th {\n",
              "        text-align: right;\n",
              "    }\n",
              "</style>\n",
              "<table border=\"1\" class=\"dataframe\">\n",
              "  <thead>\n",
              "    <tr style=\"text-align: right;\">\n",
              "      <th></th>\n",
              "      <th>age</th>\n",
              "      <th>workclass</th>\n",
              "      <th>fnlwgt</th>\n",
              "      <th>education</th>\n",
              "      <th>education_num</th>\n",
              "      <th>marital_status</th>\n",
              "      <th>occupation</th>\n",
              "      <th>relationship</th>\n",
              "      <th>race</th>\n",
              "      <th>sex</th>\n",
              "      <th>capital_gain</th>\n",
              "      <th>capital_loss</th>\n",
              "      <th>hours_per_week</th>\n",
              "      <th>native_country</th>\n",
              "      <th>yearly_wage</th>\n",
              "    </tr>\n",
              "  </thead>\n",
              "  <tbody>\n",
              "    <tr>\n",
              "      <th>0</th>\n",
              "      <td>0.452055</td>\n",
              "      <td>0.714286</td>\n",
              "      <td>0.048238</td>\n",
              "      <td>0.600000</td>\n",
              "      <td>0.800000</td>\n",
              "      <td>0.333333</td>\n",
              "      <td>0.230769</td>\n",
              "      <td>0.0</td>\n",
              "      <td>1.0</td>\n",
              "      <td>1.0</td>\n",
              "      <td>0.0</td>\n",
              "      <td>0.0</td>\n",
              "      <td>0.122449</td>\n",
              "      <td>0.95</td>\n",
              "      <td>0.0</td>\n",
              "    </tr>\n",
              "    <tr>\n",
              "      <th>1</th>\n",
              "      <td>0.287671</td>\n",
              "      <td>0.428571</td>\n",
              "      <td>0.138113</td>\n",
              "      <td>0.733333</td>\n",
              "      <td>0.533333</td>\n",
              "      <td>0.000000</td>\n",
              "      <td>0.384615</td>\n",
              "      <td>0.2</td>\n",
              "      <td>1.0</td>\n",
              "      <td>1.0</td>\n",
              "      <td>0.0</td>\n",
              "      <td>0.0</td>\n",
              "      <td>0.397959</td>\n",
              "      <td>0.95</td>\n",
              "      <td>0.0</td>\n",
              "    </tr>\n",
              "    <tr>\n",
              "      <th>2</th>\n",
              "      <td>0.493151</td>\n",
              "      <td>0.428571</td>\n",
              "      <td>0.151068</td>\n",
              "      <td>0.066667</td>\n",
              "      <td>0.400000</td>\n",
              "      <td>0.333333</td>\n",
              "      <td>0.384615</td>\n",
              "      <td>0.0</td>\n",
              "      <td>0.5</td>\n",
              "      <td>1.0</td>\n",
              "      <td>0.0</td>\n",
              "      <td>0.0</td>\n",
              "      <td>0.397959</td>\n",
              "      <td>0.95</td>\n",
              "      <td>0.0</td>\n",
              "    </tr>\n",
              "    <tr>\n",
              "      <th>3</th>\n",
              "      <td>0.150685</td>\n",
              "      <td>0.428571</td>\n",
              "      <td>0.221488</td>\n",
              "      <td>0.600000</td>\n",
              "      <td>0.800000</td>\n",
              "      <td>0.333333</td>\n",
              "      <td>0.692308</td>\n",
              "      <td>1.0</td>\n",
              "      <td>0.5</td>\n",
              "      <td>0.0</td>\n",
              "      <td>0.0</td>\n",
              "      <td>0.0</td>\n",
              "      <td>0.397959</td>\n",
              "      <td>0.10</td>\n",
              "      <td>0.0</td>\n",
              "    </tr>\n",
              "    <tr>\n",
              "      <th>4</th>\n",
              "      <td>0.273973</td>\n",
              "      <td>0.428571</td>\n",
              "      <td>0.184932</td>\n",
              "      <td>0.800000</td>\n",
              "      <td>0.866667</td>\n",
              "      <td>0.333333</td>\n",
              "      <td>0.230769</td>\n",
              "      <td>1.0</td>\n",
              "      <td>1.0</td>\n",
              "      <td>0.0</td>\n",
              "      <td>0.0</td>\n",
              "      <td>0.0</td>\n",
              "      <td>0.397959</td>\n",
              "      <td>0.95</td>\n",
              "      <td>0.0</td>\n",
              "    </tr>\n",
              "  </tbody>\n",
              "</table>\n",
              "</div>\n",
              "      <button class=\"colab-df-convert\" onclick=\"convertToInteractive('df-ac18dcba-3f5c-4735-9542-a08a70293a5b')\"\n",
              "              title=\"Convert this dataframe to an interactive table.\"\n",
              "              style=\"display:none;\">\n",
              "        \n",
              "  <svg xmlns=\"http://www.w3.org/2000/svg\" height=\"24px\"viewBox=\"0 0 24 24\"\n",
              "       width=\"24px\">\n",
              "    <path d=\"M0 0h24v24H0V0z\" fill=\"none\"/>\n",
              "    <path d=\"M18.56 5.44l.94 2.06.94-2.06 2.06-.94-2.06-.94-.94-2.06-.94 2.06-2.06.94zm-11 1L8.5 8.5l.94-2.06 2.06-.94-2.06-.94L8.5 2.5l-.94 2.06-2.06.94zm10 10l.94 2.06.94-2.06 2.06-.94-2.06-.94-.94-2.06-.94 2.06-2.06.94z\"/><path d=\"M17.41 7.96l-1.37-1.37c-.4-.4-.92-.59-1.43-.59-.52 0-1.04.2-1.43.59L10.3 9.45l-7.72 7.72c-.78.78-.78 2.05 0 2.83L4 21.41c.39.39.9.59 1.41.59.51 0 1.02-.2 1.41-.59l7.78-7.78 2.81-2.81c.8-.78.8-2.07 0-2.86zM5.41 20L4 18.59l7.72-7.72 1.47 1.35L5.41 20z\"/>\n",
              "  </svg>\n",
              "      </button>\n",
              "      \n",
              "  <style>\n",
              "    .colab-df-container {\n",
              "      display:flex;\n",
              "      flex-wrap:wrap;\n",
              "      gap: 12px;\n",
              "    }\n",
              "\n",
              "    .colab-df-convert {\n",
              "      background-color: #E8F0FE;\n",
              "      border: none;\n",
              "      border-radius: 50%;\n",
              "      cursor: pointer;\n",
              "      display: none;\n",
              "      fill: #1967D2;\n",
              "      height: 32px;\n",
              "      padding: 0 0 0 0;\n",
              "      width: 32px;\n",
              "    }\n",
              "\n",
              "    .colab-df-convert:hover {\n",
              "      background-color: #E2EBFA;\n",
              "      box-shadow: 0px 1px 2px rgba(60, 64, 67, 0.3), 0px 1px 3px 1px rgba(60, 64, 67, 0.15);\n",
              "      fill: #174EA6;\n",
              "    }\n",
              "\n",
              "    [theme=dark] .colab-df-convert {\n",
              "      background-color: #3B4455;\n",
              "      fill: #D2E3FC;\n",
              "    }\n",
              "\n",
              "    [theme=dark] .colab-df-convert:hover {\n",
              "      background-color: #434B5C;\n",
              "      box-shadow: 0px 1px 3px 1px rgba(0, 0, 0, 0.15);\n",
              "      filter: drop-shadow(0px 1px 2px rgba(0, 0, 0, 0.3));\n",
              "      fill: #FFFFFF;\n",
              "    }\n",
              "  </style>\n",
              "\n",
              "      <script>\n",
              "        const buttonEl =\n",
              "          document.querySelector('#df-ac18dcba-3f5c-4735-9542-a08a70293a5b button.colab-df-convert');\n",
              "        buttonEl.style.display =\n",
              "          google.colab.kernel.accessAllowed ? 'block' : 'none';\n",
              "\n",
              "        async function convertToInteractive(key) {\n",
              "          const element = document.querySelector('#df-ac18dcba-3f5c-4735-9542-a08a70293a5b');\n",
              "          const dataTable =\n",
              "            await google.colab.kernel.invokeFunction('convertToInteractive',\n",
              "                                                     [key], {});\n",
              "          if (!dataTable) return;\n",
              "\n",
              "          const docLinkHtml = 'Like what you see? Visit the ' +\n",
              "            '<a target=\"_blank\" href=https://colab.research.google.com/notebooks/data_table.ipynb>data table notebook</a>'\n",
              "            + ' to learn more about interactive tables.';\n",
              "          element.innerHTML = '';\n",
              "          dataTable['output_type'] = 'display_data';\n",
              "          await google.colab.output.renderOutput(dataTable, element);\n",
              "          const docLink = document.createElement('div');\n",
              "          docLink.innerHTML = docLinkHtml;\n",
              "          element.appendChild(docLink);\n",
              "        }\n",
              "      </script>\n",
              "    </div>\n",
              "  </div>\n",
              "  "
            ]
          },
          "metadata": {},
          "execution_count": 113
        }
      ]
    },
    {
      "cell_type": "markdown",
      "source": [
        "## Análise de Métodos\n",
        "\n",
        "---\n",
        "\n"
      ],
      "metadata": {
        "id": "cQmqaoTFVwYG"
      }
    },
    {
      "cell_type": "markdown",
      "source": [
        "O **Random Forest** é um algoritimo de classificação que consite de diversas Decision Trees, ele usa **bagging** (bootstrapping + aggregation) e seleciona **features aleatórias** (sqrt(num_features) por árvore) para criar decision trees. Cada árvore dá sua predição baseando-se nas features que lhe foram dadas. O resultado final é a **predição mais comum** entre todas as trees da floresta.\n",
        "\n",
        "Escolhi esse método porque nosso conjunto de dados possui diversas relações entre as features que precisam ser levadas em consideração. O Random Forest faz essa análise com excelência, explorando diversas combinações de colunas (100 trees no total).\n",
        "\n",
        "Por fim, trouxe abaixo mais três métodos (SVC, Decision Tree e KNN) para compararmos o resultado. É possível rodar todos os testes em \"Execução\".\n",
        "\n",
        "**O Random Forest obteve resultados mais satisfatórios em todas as categorias**, com destaque na predição de yearly_wages maiores que 50k, onde houve melhora significativa. "
      ],
      "metadata": {
        "id": "CDO3mvoa46Vh"
      }
    },
    {
      "cell_type": "markdown",
      "source": [
        "### Execução"
      ],
      "metadata": {
        "id": "yy4rAyrF6t-7"
      }
    },
    {
      "cell_type": "markdown",
      "source": [
        "#### K-Nearest Neighbour"
      ],
      "metadata": {
        "id": "M6m_4KBNd79U"
      }
    },
    {
      "cell_type": "code",
      "source": [
        "def knn_classifier(dataset):\n",
        "\n",
        "  # Splitting data\n",
        "  # Optei pela divisão 80/20\n",
        "  training_set, test_set = train_test_split(dataset, test_size = 0.2, random_state = 1)\n",
        "\n",
        "  # Separando targets\n",
        "  X_train = training_set.iloc[:,0:14].values\n",
        "  Y_train = training_set.iloc[:,14].values\n",
        "  X_test = test_set.iloc[:,0:14].values\n",
        "  Y_test = test_set.iloc[:,14].values\n",
        "\n",
        "  # Implementando algoritmo\n",
        "  classifier = KNeighborsClassifier()\n",
        "  classifier.fit(X_train,Y_train)\n",
        "  Y_pred = classifier.predict(X_test)\n",
        "\n",
        "  # Métricas\n",
        "  print('Resultados para o método K-Nearest Neighbour Classifier')\n",
        "  print(metrics.classification_report(Y_test, Y_pred))\n"
      ],
      "metadata": {
        "id": "t_BuVht-eK7q"
      },
      "execution_count": 124,
      "outputs": []
    },
    {
      "cell_type": "markdown",
      "source": [
        "#### Decision Tree"
      ],
      "metadata": {
        "id": "Pys0nVNtduUl"
      }
    },
    {
      "cell_type": "code",
      "source": [
        "def decision_tree_classifier(dataset):\n",
        "\n",
        "  # Splitting data\n",
        "  # Optei pela divisão 80/20\n",
        "  training_set, test_set = train_test_split(dataset, test_size = 0.2, random_state = 1)\n",
        "\n",
        "  # Separando targets\n",
        "  X_train = training_set.iloc[:,0:14].values\n",
        "  Y_train = training_set.iloc[:,14].values\n",
        "  X_test = test_set.iloc[:,0:14].values\n",
        "  Y_test = test_set.iloc[:,14].values\n",
        "\n",
        "  # Implementando algoritmo\n",
        "  classifier = tree.DecisionTreeClassifier()\n",
        "  classifier.fit(X_train,Y_train)\n",
        "  Y_pred = classifier.predict(X_test)\n",
        "\n",
        "  # Métricas\n",
        "  print('Resultados para o método Decision Tree Classifier')\n",
        "  print(metrics.classification_report(Y_test, Y_pred))\n"
      ],
      "metadata": {
        "id": "zL2hpdy16zQh"
      },
      "execution_count": 125,
      "outputs": []
    },
    {
      "cell_type": "markdown",
      "source": [
        "#### Random Forest"
      ],
      "metadata": {
        "id": "mv2T0tymdmPu"
      }
    },
    {
      "cell_type": "code",
      "source": [
        "def random_forest_classifier(dataset):\n",
        "\n",
        "  # Splitting data\n",
        "  # Optei pela divisão 80/20\n",
        "  training_set, test_set = train_test_split(dataset, test_size = 0.2, random_state = 1)\n",
        "\n",
        "  # Separando targets\n",
        "  X_train = training_set.iloc[:,0:14].values\n",
        "  Y_train = training_set.iloc[:,14].values\n",
        "  X_test = test_set.iloc[:,0:14].values\n",
        "  Y_test = test_set.iloc[:,14].values\n",
        "\n",
        "  # Implementando algoritmo\n",
        "  classifier = RandomForestClassifier()\n",
        "  classifier.fit(X_train,Y_train)\n",
        "  Y_pred = classifier.predict(X_test)\n",
        "\n",
        "  # Métricas\n",
        "  print('Resultados para o método Random Forest Classifier')\n",
        "  print(metrics.classification_report(Y_test, Y_pred))\n"
      ],
      "metadata": {
        "id": "unee1N0qekjL"
      },
      "execution_count": 126,
      "outputs": []
    },
    {
      "cell_type": "markdown",
      "source": [
        "#### SVC"
      ],
      "metadata": {
        "id": "t3afpu-C3UOh"
      }
    },
    {
      "cell_type": "code",
      "source": [
        "def support_vector_classification(dataset):\n",
        "\n",
        "  # Splitting data\n",
        "  # Optei pela divisão 80/20\n",
        "  training_set, test_set = train_test_split(dataset, test_size = 0.2, random_state = 1)\n",
        "\n",
        "  # Separando targets\n",
        "  X_train = training_set.iloc[:,0:14].values\n",
        "  Y_train = training_set.iloc[:,14].values\n",
        "  X_test = test_set.iloc[:,0:14].values\n",
        "  Y_test = test_set.iloc[:,14].values\n",
        "\n",
        "  # Implementando algoritmo\n",
        "  classifier = SVC()\n",
        "  classifier.fit(X_train,Y_train)\n",
        "  Y_pred = classifier.predict(X_test)\n",
        "\n",
        "  # Métricas\n",
        "  print(f'Resultados para o método SVC:')\n",
        "  print(metrics.classification_report(Y_test, Y_pred))\n"
      ],
      "metadata": {
        "id": "i5ow1ADybulN"
      },
      "execution_count": 127,
      "outputs": []
    },
    {
      "cell_type": "markdown",
      "source": [
        "#### Main"
      ],
      "metadata": {
        "id": "rxlkDtlD_uYG"
      }
    },
    {
      "cell_type": "code",
      "source": [
        "support_vector_classification(dataset)\n",
        "decision_tree_classifier(dataset)\n",
        "knn_classifier(dataset)\n",
        "random_forest_classifier(dataset)"
      ],
      "metadata": {
        "colab": {
          "base_uri": "https://localhost:8080/"
        },
        "id": "gc3SpXND3ZA7",
        "outputId": "06d31891-8410-42ca-f374-2bed830652ec"
      },
      "execution_count": 128,
      "outputs": [
        {
          "output_type": "stream",
          "name": "stdout",
          "text": [
            "Resultados para o método SVC:\n",
            "              precision    recall  f1-score   support\n",
            "\n",
            "         0.0       0.87      0.94      0.90      4990\n",
            "         1.0       0.74      0.52      0.61      1522\n",
            "\n",
            "    accuracy                           0.85      6512\n",
            "   macro avg       0.80      0.73      0.76      6512\n",
            "weighted avg       0.84      0.85      0.84      6512\n",
            "\n",
            "Resultados para o método Decision Tree Classifier\n",
            "              precision    recall  f1-score   support\n",
            "\n",
            "         0.0       0.88      0.88      0.88      4990\n",
            "         1.0       0.60      0.60      0.60      1522\n",
            "\n",
            "    accuracy                           0.81      6512\n",
            "   macro avg       0.74      0.74      0.74      6512\n",
            "weighted avg       0.81      0.81      0.81      6512\n",
            "\n",
            "Resultados para o método K-Nearest Neighbour Classifier\n",
            "              precision    recall  f1-score   support\n",
            "\n",
            "         0.0       0.88      0.91      0.89      4990\n",
            "         1.0       0.66      0.58      0.62      1522\n",
            "\n",
            "    accuracy                           0.83      6512\n",
            "   macro avg       0.77      0.74      0.75      6512\n",
            "weighted avg       0.83      0.83      0.83      6512\n",
            "\n",
            "Resultados para o método Random Forest Classifier\n",
            "              precision    recall  f1-score   support\n",
            "\n",
            "         0.0       0.89      0.93      0.91      4990\n",
            "         1.0       0.74      0.62      0.67      1522\n",
            "\n",
            "    accuracy                           0.86      6512\n",
            "   macro avg       0.81      0.77      0.79      6512\n",
            "weighted avg       0.85      0.86      0.85      6512\n",
            "\n"
          ]
        }
      ]
    },
    {
      "cell_type": "markdown",
      "source": [
        "# Aplicação final na base de dados de teste\n"
      ],
      "metadata": {
        "id": "PW4peV4_7sWa"
      }
    },
    {
      "cell_type": "code",
      "source": [
        "import pandas as pd\n",
        "from sklearn import preprocessing\n",
        "from sklearn.ensemble import RandomForestClassifier\n",
        "\n",
        "def replace_invalid_values(dataset):\n",
        "    missing_value_cols = ['workclass', 'occupation',  'native_country']\n",
        "\n",
        "    for col in missing_value_cols:\n",
        "        dataset[col].fillna(dataset[col].mode()[0], inplace=True)\n",
        "\n",
        "    return dataset\n",
        "\n",
        "def feature_scaling(dataset, columns_category):\n",
        "    le = preprocessing.LabelEncoder()\n",
        "    for col in columns_category:\n",
        "        le.fit(dataset[col])\n",
        "        dataset[col] = le.fit_transform(dataset[col])\n",
        "\n",
        "    dataset_normalize = dataset.copy()\n",
        "    dataset_normalize[dataset.columns] = preprocessing.MinMaxScaler().fit_transform(dataset[dataset.columns])\n",
        "\n",
        "    dataset = dataset_normalize\n",
        "\n",
        "    return dataset\n",
        "\n",
        "def main():\n",
        "    # Carregamento\n",
        "    training_set = pd.read_csv(\"wage_train.csv\", skipinitialspace = True)\n",
        "    test_set = pd.read_csv(\"wage_test.csv\", skipinitialspace = True)\n",
        "    training_set = training_set.drop(columns=['Unnamed: 0'])\n",
        "    test_set = test_set.drop(columns=['Unnamed: 0'])\n",
        "\n",
        "    # Preprocessamento\n",
        "    training_set = replace_invalid_values(training_set)\n",
        "    test_set = replace_invalid_values(test_set)\n",
        "    columns_category = ['workclass', 'education', 'marital_status', 'occupation', \n",
        "                    'relationship', 'race', 'sex', 'native_country', 'yearly_wage']\n",
        "    training_set = feature_scaling(training_set, columns_category)\n",
        "    columns_category = ['workclass', 'education', 'marital_status', 'occupation', \n",
        "                        'relationship', 'race', 'sex', 'native_country']\n",
        "    test_set = feature_scaling(test_set, columns_category)\n",
        "    \n",
        "    # Separando target de trainamento\n",
        "    X_train = training_set.iloc[:,0:14].values\n",
        "    Y_train = training_set.iloc[:,14].values\n",
        "    \n",
        "    # Implementando Random Forest\n",
        "    classifier = RandomForestClassifier()\n",
        "    classifier.fit(X_train,Y_train)\n",
        "    prediction = classifier.predict(test_set)\n",
        "    \n",
        "    # Convertendo para csv\n",
        "    results = pd.DataFrame(prediction, columns = ['predictedValues'])\n",
        "    results.to_csv('predicted.csv')\n",
        "    \n",
        "main()"
      ],
      "metadata": {
        "id": "dGfvXPKN70nu",
        "colab": {
          "base_uri": "https://localhost:8080/"
        },
        "outputId": "27047545-a409-4aaa-b938-8a8ef6f836cf"
      },
      "execution_count": 129,
      "outputs": [
        {
          "output_type": "stream",
          "name": "stderr",
          "text": [
            "/usr/local/lib/python3.7/dist-packages/sklearn/base.py:444: UserWarning: X has feature names, but RandomForestClassifier was fitted without feature names\n",
            "  f\"X has feature names, but {self.__class__.__name__} was fitted without\"\n"
          ]
        }
      ]
    }
  ],
  "metadata": {
    "kernelspec": {
      "display_name": "Python 3.10.5 64-bit",
      "language": "python",
      "name": "python3"
    },
    "language_info": {
      "name": "python",
      "version": "3.10.5"
    },
    "orig_nbformat": 4,
    "vscode": {
      "interpreter": {
        "hash": "97cc609b13305c559618ec78a438abc56230b9381f827f22d070313b9a1f3777"
      }
    },
    "colab": {
      "name": "EDA.ipynb",
      "provenance": [],
      "collapsed_sections": [
        "mNQT5YjRU58t",
        "gSyN8xxXyLBd",
        "M6m_4KBNd79U",
        "Pys0nVNtduUl",
        "t3afpu-C3UOh"
      ],
      "toc_visible": true
    }
  },
  "nbformat": 4,
  "nbformat_minor": 0
}